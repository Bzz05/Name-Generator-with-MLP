{
 "cells": [
  {
   "cell_type": "code",
   "execution_count": 15,
   "id": "9d3a94dc-fa88-4326-96df-f10487cdcc9f",
   "metadata": {},
   "outputs": [],
   "source": [
    "import torch\n",
    "import torch.nn.functional as F\n",
    "import matplotlib.pyplot as plt\n",
    "%matplotlib inline"
   ]
  },
  {
   "cell_type": "code",
   "execution_count": 16,
   "id": "177baa76-0de8-442c-8c85-bceb38b2fcdd",
   "metadata": {},
   "outputs": [
    {
     "name": "stdout",
     "output_type": "stream",
     "text": [
      "['emma', 'olivia', 'ava', 'isabella', 'sophia'] 32033\n"
     ]
    }
   ],
   "source": [
    "words = open('names.txt', 'r').read().splitlines()\n",
    "print(words[:5], len(words))"
   ]
  },
  {
   "cell_type": "code",
   "execution_count": 17,
   "id": "a4032605-1694-466e-bfcd-bd9df7000821",
   "metadata": {},
   "outputs": [
    {
     "name": "stdout",
     "output_type": "stream",
     "text": [
      "{1: 'a', 2: 'b', 3: 'c', 4: 'd', 5: 'e', 6: 'f', 7: 'g', 8: 'h', 9: 'i', 10: 'j', 11: 'k', 12: 'l', 13: 'm', 14: 'n', 15: 'o', 16: 'p', 17: 'q', 18: 'r', 19: 's', 20: 't', 21: 'u', 22: 'v', 23: 'w', 24: 'x', 25: 'y', 26: 'z', 0: '.'}\n"
     ]
    }
   ],
   "source": [
    "chars = sorted(list(set(''.join(words))))\n",
    "stoi = {s:i+1 for i, s in enumerate(chars)}\n",
    "stoi['.'] = 0\n",
    "itos = {i:s for s, i in stoi.items()}\n",
    "print(itos)"
   ]
  },
  {
   "cell_type": "code",
   "execution_count": 116,
   "id": "ad5fc284-bfb4-453d-8bd8-c5096de84f67",
   "metadata": {
    "scrolled": true
   },
   "outputs": [],
   "source": [
    "block_size = 3 # how many char before to predict the next char\n",
    "x, y = [], []\n",
    "\n",
    "for w in words:\n",
    "    # print(w)\n",
    "    context = [0] * block_size\n",
    "    for ch in w + '.':\n",
    "        ix = stoi[ch]\n",
    "        x.append(context)\n",
    "        y.append(ix)\n",
    "        # print(''.join(itos[i] for i in context), '---->', itos[ix])\n",
    "        context = context[1:] + [ix]\n",
    "\n",
    "x = torch.tensor(x)\n",
    "y = torch.tensor(y)"
   ]
  },
  {
   "cell_type": "code",
   "execution_count": 117,
   "id": "5b797f08-2209-40ec-8e60-44617ea76d3c",
   "metadata": {},
   "outputs": [
    {
     "data": {
      "text/plain": [
       "(torch.Size([228146, 3]), torch.int64, torch.Size([228146]), torch.int64)"
      ]
     },
     "execution_count": 117,
     "metadata": {},
     "output_type": "execute_result"
    }
   ],
   "source": [
    "x.shape, x.dtype, y.shape, y.dtype"
   ]
  },
  {
   "cell_type": "code",
   "execution_count": 240,
   "id": "fe5257c1-da42-4117-a1fa-c909deabf472",
   "metadata": {},
   "outputs": [
    {
     "name": "stdout",
     "output_type": "stream",
     "text": [
      "torch.Size([182437, 3]) torch.Size([182437])\n",
      "torch.Size([22781, 3]) torch.Size([22781])\n",
      "torch.Size([22928, 3]) torch.Size([22928])\n"
     ]
    }
   ],
   "source": [
    "def build_dataset(words):\n",
    "    block_size = 3\n",
    "    x, y = [], []\n",
    "    \n",
    "    for w in words:\n",
    "    # print(w)\n",
    "        context = [0] * block_size\n",
    "        for ch in w + '.':\n",
    "            ix = stoi[ch]\n",
    "            x.append(context)\n",
    "            y.append(ix)\n",
    "            # print(''.join(itos[i] for i in context), '---->', itos[ix])\n",
    "            context = context[1:] + [ix]\n",
    "    \n",
    "    x = torch.tensor(x)\n",
    "    y = torch.tensor(y)\n",
    "    print(x.shape, y.shape)\n",
    "    return x, y\n",
    "\n",
    "import random\n",
    "random.seed(42)\n",
    "random.shuffle(words)\n",
    "n1 = int(len(words) * .8)\n",
    "n2 = int(len(words) * .9)\n",
    "\n",
    "x_train, y_train = build_dataset(words[:n1])\n",
    "x_val, y_val = build_dataset(words[n1:n2])\n",
    "x_test, y_test = build_dataset(words[n2:])"
   ]
  },
  {
   "cell_type": "code",
   "execution_count": 239,
   "id": "6f73ee8e-b789-41c7-85e3-550a1a463477",
   "metadata": {},
   "outputs": [
    {
     "data": {
      "text/plain": [
       "(32033, 25626, 28829, 3203)"
      ]
     },
     "execution_count": 239,
     "metadata": {},
     "output_type": "execute_result"
    }
   ],
   "source": [
    "len(words), n1, n2, n2 - n1"
   ]
  },
  {
   "cell_type": "code",
   "execution_count": null,
   "id": "dcaf39eb-ccab-431c-b199-9b0238958f21",
   "metadata": {},
   "outputs": [],
   "source": []
  },
  {
   "cell_type": "code",
   "execution_count": 23,
   "id": "6a4cbd93-3cec-4adf-ad87-a1ca5d4e4b90",
   "metadata": {},
   "outputs": [],
   "source": [
    "C = torch.randn((27, 2))"
   ]
  },
  {
   "cell_type": "code",
   "execution_count": 38,
   "id": "4fa7c393-bf62-4e3f-8501-ba47c0a2242f",
   "metadata": {},
   "outputs": [
    {
     "data": {
      "text/plain": [
       "torch.Size([32, 3, 2])"
      ]
     },
     "execution_count": 38,
     "metadata": {},
     "output_type": "execute_result"
    }
   ],
   "source": [
    "emb = C[x]\n",
    "emb.shape"
   ]
  },
  {
   "cell_type": "code",
   "execution_count": 80,
   "id": "b4a2a2a4-9380-4552-bc84-354cb9f8e726",
   "metadata": {},
   "outputs": [],
   "source": [
    "w1 = torch.randn((6, 100))\n",
    "b1 = torch.randn(100)"
   ]
  },
  {
   "cell_type": "code",
   "execution_count": 81,
   "id": "47a174ae-fcd2-4c87-99a3-1db82840377a",
   "metadata": {},
   "outputs": [],
   "source": [
    "h = torch.tanh(emb.view(-1, 6) @ w1 + b1) # -1 infer what size it should be"
   ]
  },
  {
   "cell_type": "code",
   "execution_count": 82,
   "id": "1758b61a-ca5c-463f-8228-b145b3263575",
   "metadata": {},
   "outputs": [
    {
     "data": {
      "text/plain": [
       "(tensor([[-0.9907, -0.9498,  0.7037,  ...,  0.1420,  0.1258,  0.9901],\n",
       "         [-0.9135, -0.9616,  0.9833,  ..., -0.1825, -0.7614,  0.9749],\n",
       "         [-0.9715, -0.2427,  0.9526,  ...,  0.9976,  0.8087,  0.6851],\n",
       "         ...,\n",
       "         [-0.9998,  0.9977, -0.7276,  ...,  0.9990,  0.7981,  0.9363],\n",
       "         [-1.0000, -1.0000,  0.9705,  ..., -0.9998,  0.9433,  0.5384],\n",
       "         [ 1.0000,  0.9881,  0.9755,  ...,  1.0000, -0.8890, -0.8997]]),\n",
       " torch.Size([32, 100]))"
      ]
     },
     "execution_count": 82,
     "metadata": {},
     "output_type": "execute_result"
    }
   ],
   "source": [
    "h, h.shape"
   ]
  },
  {
   "cell_type": "code",
   "execution_count": 83,
   "id": "6daaaa82-b7ff-4651-a4fa-380d493df6c5",
   "metadata": {},
   "outputs": [
    {
     "name": "stdout",
     "output_type": "stream",
     "text": [
      "torch.Size([32, 2]) torch.Size([32, 2]) torch.Size([32, 2])\n",
      "torch.Size([96, 2])\n",
      "torch.Size([32, 6])\n"
     ]
    }
   ],
   "source": [
    "print(emb[:, 0, :].shape, emb[:, 1, :].shape, emb[:, 2, :].shape)\n",
    "\n",
    "print(torch.cat([emb[:, 0, :], emb[:, 1, :], emb[:, 2, :]], 0).shape) # across dimension 0\n",
    "# this one above goes like this: first second third\n",
    "\n",
    "print(torch.cat([emb[:, 0, :], emb[:, 1, :], emb[:, 2, :]], 1).shape) # across dimension 1\n",
    "# this one makes kind of stacks it vertically:\n",
    "# first\n",
    "# second\n",
    "# third"
   ]
  },
  {
   "cell_type": "code",
   "execution_count": 84,
   "id": "a265cc93-f99b-498a-a166-8ae7304eb91e",
   "metadata": {},
   "outputs": [
    {
     "name": "stdout",
     "output_type": "stream",
     "text": [
      "torch.Size([32, 6]) torch.Size([96, 2])\n"
     ]
    }
   ],
   "source": [
    "print(torch.cat(torch.unbind(emb, 1), 1).shape, torch.cat(torch.unbind(emb, 1), 0).shape)"
   ]
  },
  {
   "cell_type": "code",
   "execution_count": 85,
   "id": "e806b7cc-bec3-4c73-b348-77cbaf0569ca",
   "metadata": {},
   "outputs": [
    {
     "data": {
      "text/plain": [
       "torch.Size([32, 3, 2])"
      ]
     },
     "execution_count": 85,
     "metadata": {},
     "output_type": "execute_result"
    }
   ],
   "source": [
    "emb.shape"
   ]
  },
  {
   "cell_type": "code",
   "execution_count": 86,
   "id": "581fe0ce-092d-437a-a975-3a7ad44ce4f1",
   "metadata": {},
   "outputs": [
    {
     "data": {
      "text/plain": [
       "True"
      ]
     },
     "execution_count": 86,
     "metadata": {},
     "output_type": "execute_result"
    }
   ],
   "source": [
    "emb.view(32, 6).shape == torch.cat(torch.unbind(emb, 1), 1).shape"
   ]
  },
  {
   "cell_type": "code",
   "execution_count": 87,
   "id": "f195942d-66ee-4da8-af6f-ab278419f957",
   "metadata": {},
   "outputs": [],
   "source": [
    "# cat is actually more inefficient"
   ]
  },
  {
   "cell_type": "code",
   "execution_count": 91,
   "id": "043ea95c-1633-47e7-b773-de64e2bf746f",
   "metadata": {},
   "outputs": [],
   "source": [
    "w2 = torch.randn((100, 27))\n",
    "b2 = torch.randn(27)"
   ]
  },
  {
   "cell_type": "code",
   "execution_count": 92,
   "id": "259f406f-d402-4eca-a9b3-7fccfeaabfd6",
   "metadata": {},
   "outputs": [],
   "source": [
    "logits = h @ w2 + b2"
   ]
  },
  {
   "cell_type": "code",
   "execution_count": null,
   "id": "ea4f4ddf-1901-4650-b5f7-4320667c7296",
   "metadata": {},
   "outputs": [],
   "source": [
    "logits, logits.shape"
   ]
  },
  {
   "cell_type": "code",
   "execution_count": 94,
   "id": "d049f3d7-2bb5-4617-8df1-f3d7ed6ad5da",
   "metadata": {},
   "outputs": [
    {
     "data": {
      "text/plain": [
       "torch.Size([32, 27])"
      ]
     },
     "execution_count": 94,
     "metadata": {},
     "output_type": "execute_result"
    }
   ],
   "source": [
    "counts = logits.exp()\n",
    "prob = counts / counts.sum(1, keepdims = True)\n",
    "prob.shape"
   ]
  },
  {
   "cell_type": "code",
   "execution_count": 96,
   "id": "390ba9c3-ce7b-480f-8de2-9a764f5d416f",
   "metadata": {},
   "outputs": [
    {
     "data": {
      "text/plain": [
       "tensor(1.0000)"
      ]
     },
     "execution_count": 96,
     "metadata": {},
     "output_type": "execute_result"
    }
   ],
   "source": [
    "prob[0].sum()"
   ]
  },
  {
   "cell_type": "code",
   "execution_count": 102,
   "id": "3831f5cd-a264-4794-bf79-a3f472339db0",
   "metadata": {},
   "outputs": [
    {
     "data": {
      "text/plain": [
       "tensor(12.8916)"
      ]
     },
     "execution_count": 102,
     "metadata": {},
     "output_type": "execute_result"
    }
   ],
   "source": [
    "loss = -(prob[torch.arange(32), y].log().mean())\n",
    "loss"
   ]
  },
  {
   "cell_type": "code",
   "execution_count": null,
   "id": "6c0b98a9-2996-4bab-9337-b648d4880382",
   "metadata": {},
   "outputs": [],
   "source": []
  },
  {
   "cell_type": "code",
   "execution_count": null,
   "id": "2dd0ac85-f933-4d37-aa6c-e458e96b87a2",
   "metadata": {},
   "outputs": [],
   "source": []
  },
  {
   "cell_type": "code",
   "execution_count": 261,
   "id": "abfaf7b0-886b-4a38-a75f-58d78ab0bca6",
   "metadata": {},
   "outputs": [
    {
     "data": {
      "text/plain": [
       "(torch.Size([182437, 3]), torch.Size([182437]))"
      ]
     },
     "execution_count": 261,
     "metadata": {},
     "output_type": "execute_result"
    }
   ],
   "source": [
    "x_train.shape, y_train.shape"
   ]
  },
  {
   "cell_type": "code",
   "execution_count": 315,
   "id": "cb2b3cac-d9bb-42e3-85d5-b3d1cb9dfe0f",
   "metadata": {},
   "outputs": [],
   "source": [
    "g = torch.Generator().manual_seed(2147483647)\n",
    "C = torch.randn((27, 10), generator = g)\n",
    "w1 = torch.randn((30, 200), generator = g)\n",
    "b1 = torch.randn(200, generator = g)\n",
    "w2 = torch.randn((200, 27), generator = g)\n",
    "b2 = torch.randn(27, generator = g)\n",
    "params = [C, w1, b1, w2, b2]"
   ]
  },
  {
   "cell_type": "code",
   "execution_count": 316,
   "id": "22a9c5cd-bfa0-4d31-ab49-ce56bc09c104",
   "metadata": {},
   "outputs": [
    {
     "data": {
      "text/plain": [
       "11897"
      ]
     },
     "execution_count": 316,
     "metadata": {},
     "output_type": "execute_result"
    }
   ],
   "source": [
    "sum(p.nelement() for p in params) # this is after increasing 100 -> 200 and also increasing the dimension to 10"
   ]
  },
  {
   "cell_type": "code",
   "execution_count": 317,
   "id": "0f853f40-a8d4-49dc-8126-a03da924be0d",
   "metadata": {},
   "outputs": [
    {
     "data": {
      "text/plain": [
       "11897"
      ]
     },
     "execution_count": 317,
     "metadata": {},
     "output_type": "execute_result"
    }
   ],
   "source": [
    "sum(p.nelement() for p in params)"
   ]
  },
  {
   "cell_type": "code",
   "execution_count": 318,
   "id": "8cb88c5d-5fd7-4dcf-a638-d96e22c5ae93",
   "metadata": {},
   "outputs": [],
   "source": [
    "for p in params:\n",
    "    p.requires_grad = True"
   ]
  },
  {
   "cell_type": "code",
   "execution_count": 319,
   "id": "31e4e3ba-7662-413a-af9c-98151a12828c",
   "metadata": {},
   "outputs": [],
   "source": [
    "lre = torch.linspace(-3, 0, 1000)\n",
    "lrs = 10**lre"
   ]
  },
  {
   "cell_type": "code",
   "execution_count": 320,
   "id": "eeb349d5-018f-4a39-bb01-5d9955e74cef",
   "metadata": {},
   "outputs": [],
   "source": [
    "lri, lossi, stepi = [], [], []"
   ]
  },
  {
   "cell_type": "code",
   "execution_count": 321,
   "id": "2ef7c71f-7e60-4603-84cf-33e5366b3078",
   "metadata": {},
   "outputs": [],
   "source": [
    "for i in range(200000):\n",
    "    # mini batch\n",
    "    ix = torch.randint(0, x_train.shape[0], (128, ))\n",
    "    \n",
    "    # forward pass\n",
    "    emb = C[x_train[ix]] # here we make it (32, 3, 2) and not (200k+, 3, 2)\n",
    "    h = torch.tanh(emb.view(-1, 30) @ w1 + b1)\n",
    "    logits = h @ w2 + b2\n",
    "    # counts = logits.exp()\n",
    "    # prob = counts / counts.sum(1, keepdims = True)\n",
    "    # loss = -prob[torch.arange(32), y].log().mean()\n",
    "    \n",
    "    # in implementation, we don't really uses those above, because they're kinda inefficient (making new memories)\n",
    "    # pytorch cluster them, then has fused kernel that evaluates these evaluation of clustered mathematical operations\n",
    "    loss = F.cross_entropy(logits, y_train[ix])\n",
    "    \n",
    "    # backward pass\n",
    "    for p in params:\n",
    "        p.grad = None\n",
    "    loss.backward()\n",
    "\n",
    "    # lr = lrs[i]\n",
    "    lr = .1 if i < 100000 else .01\n",
    "    for p in params:\n",
    "        p.data += -lr * p.grad\n",
    "\n",
    "    # lri.append(lre[i])\n",
    "    stepi.append(i)\n",
    "    lossi.append(loss.log10().item())\n",
    "    \n",
    "# print(loss.item())"
   ]
  },
  {
   "cell_type": "code",
   "execution_count": 322,
   "id": "f37a0ed7-9ff6-425e-af4a-b45859734c92",
   "metadata": {},
   "outputs": [
    {
     "data": {
      "text/plain": [
       "[<matplotlib.lines.Line2D at 0x11ecaf5e0>]"
      ]
     },
     "execution_count": 322,
     "metadata": {},
     "output_type": "execute_result"
    },
    {
     "data": {
      "image/png": "[encoded data removed]",
      "text/plain": [
       "<Figure size 640x480 with 1 Axes>"
      ]
     },
     "metadata": {},
     "output_type": "display_data"
    }
   ],
   "source": [
    "# the thickness is by optimizing these mini batches, so they create a little bit of noise\n",
    "plt.plot(stepi, lossi)"
   ]
  },
  {
   "cell_type": "code",
   "execution_count": 323,
   "id": "3802620c-e992-4ef9-96a5-a2d6d1308017",
   "metadata": {},
   "outputs": [
    {
     "data": {
      "text/plain": [
       "tensor(2.1188, grad_fn=<NllLossBackward0>)"
      ]
     },
     "execution_count": 323,
     "metadata": {},
     "output_type": "execute_result"
    }
   ],
   "source": [
    "emb = C[x_train]\n",
    "h = torch.tanh(emb.view(-1, 30) @ w1 + b1)\n",
    "logits = h @ w2 + b2\n",
    "loss = F.cross_entropy(logits, y_train)\n",
    "loss"
   ]
  },
  {
   "cell_type": "code",
   "execution_count": 324,
   "id": "27cec3f9-fcf7-4d34-ba1d-cba4a93f0dfd",
   "metadata": {},
   "outputs": [
    {
     "data": {
      "text/plain": [
       "tensor(2.1700, grad_fn=<NllLossBackward0>)"
      ]
     },
     "execution_count": 324,
     "metadata": {},
     "output_type": "execute_result"
    }
   ],
   "source": [
    "emb = C[x_val]\n",
    "h = torch.tanh(emb.view(-1, 30) @ w1 + b1)\n",
    "logits = h @ w2 + b2\n",
    "loss = F.cross_entropy(logits, y_val)\n",
    "loss"
   ]
  },
  {
   "cell_type": "code",
   "execution_count": 325,
   "id": "35612321-0deb-4d82-bff1-6e22ac89acb2",
   "metadata": {},
   "outputs": [
    {
     "data": {
      "image/png": "[encoded data removed]",
      "text/plain": [
       "<Figure size 800x800 with 1 Axes>"
      ]
     },
     "metadata": {},
     "output_type": "display_data"
    }
   ],
   "source": [
    "plt.figure(figsize = (8, 8))\n",
    "plt.scatter(C[:, 0].data, C[:, 1].data, s = 200)\n",
    "for i in range(C.shape[0]):\n",
    "    plt.text(C[i, 0].item(), C[i, 1].item(), itos[i], ha = 'center', va = 'center', color = 'white')\n",
    "plt.grid('minor')"
   ]
  },
  {
   "cell_type": "code",
   "execution_count": 283,
   "id": "13bcda36-82b9-4c4e-8c0b-9a422f5896a0",
   "metadata": {},
   "outputs": [],
   "source": [
    "# tts (.8, .1, .1)\n",
    "# train: parameter\n",
    "# val: hyperparams\n",
    "# test: loss of final model"
   ]
  },
  {
   "cell_type": "code",
   "execution_count": 327,
   "id": "3ce93fee-072a-4ece-86fe-8b1076839542",
   "metadata": {},
   "outputs": [
    {
     "name": "stdout",
     "output_type": "stream",
     "text": [
      "carmah.\n",
      "ambrilli.\n",
      "kimri.\n",
      "reh.\n",
      "cassanden.\n",
      "jazhetlaymerynch.\n",
      "geni.\n",
      "nermaritcheigh.\n",
      "kaleigh.\n",
      "ham.\n",
      "jore.\n",
      "quint.\n",
      "shoulwa.\n",
      "jadis.\n",
      "wazelo.\n",
      "dearisi.\n",
      "jace.\n",
      "pirsabee.\n",
      "dezi.\n",
      "abetteley.\n"
     ]
    }
   ],
   "source": [
    "g = torch.Generator().manual_seed(2147483657)\n",
    "\n",
    "for _ in range(20):\n",
    "    out = []\n",
    "    context = [0] * block_size # initialize as all 'dots', in this case block_size was set to 3\n",
    "    while True:\n",
    "        emb = C[torch.tensor([context])] # (1, block_size, d)\n",
    "        h = torch.tanh(emb.view(1, -1) @ w1 + b1)\n",
    "        logits = h @ w2 + b2\n",
    "        probs = F.softmax(logits, dim = 1)\n",
    "        ix = torch.multinomial(probs, num_samples = 1, generator = g).item()\n",
    "        context = context[1:] + [ix]\n",
    "        out.append(ix)\n",
    "        if ix == 0:\n",
    "            break\n",
    "\n",
    "    print(''.join(itos[i] for i in out))        "
   ]
  },
  {
   "cell_type": "code",
   "execution_count": null,
   "id": "ef90cba4-d14b-4522-9bb7-70a6a6959751",
   "metadata": {},
   "outputs": [],
   "source": []
  }
 ],
 "metadata": {
  "kernelspec": {
   "display_name": "Py kernel",
   "language": "python",
   "name": "kernelpy"
  },
  "language_info": {
   "codemirror_mode": {
    "name": "ipython",
    "version": 3
   },
   "file_extension": ".py",
   "mimetype": "text/x-python",
   "name": "python",
   "nbconvert_exporter": "python",
   "pygments_lexer": "ipython3",
   "version": "3.10.15"
  }
 },
 "nbformat": 4,
 "nbformat_minor": 5
}
